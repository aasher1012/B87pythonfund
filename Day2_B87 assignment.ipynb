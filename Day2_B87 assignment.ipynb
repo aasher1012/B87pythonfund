{
 "cells": [
  {
   "cell_type": "code",
   "execution_count": 3,
   "id": "c225544b-ac1b-4e8f-a804-af66eb649fac",
   "metadata": {},
   "outputs": [
    {
     "name": "stdout",
     "output_type": "stream",
     "text": [
      "5\n"
     ]
    }
   ],
   "source": [
    "x = 2\n",
    "y = 3\n",
    "z=x+y\n",
    "print (z)"
   ]
  },
  {
   "cell_type": "code",
   "execution_count": 7,
   "id": "97363e26-2cfe-448b-a0ba-b4315ada61c3",
   "metadata": {},
   "outputs": [
    {
     "name": "stdout",
     "output_type": "stream",
     "text": [
      "asher ansari\n"
     ]
    }
   ],
   "source": [
    "fullname = \"asher ansari\"\n",
    "print (fullname)"
   ]
  },
  {
   "cell_type": "code",
   "execution_count": 8,
   "id": "9d9ab3aa-a6fb-4e35-8dae-16067841dcec",
   "metadata": {},
   "outputs": [
    {
     "name": "stdout",
     "output_type": "stream",
     "text": [
      "Asher Ansari\n"
     ]
    }
   ],
   "source": [
    "print (fullname.title()) # Tile name"
   ]
  },
  {
   "cell_type": "code",
   "execution_count": 10,
   "id": "1a198ac9-d485-4e6b-b341-551992bb8561",
   "metadata": {},
   "outputs": [
    {
     "name": "stdout",
     "output_type": "stream",
     "text": [
      "ASHER ANSARI\n"
     ]
    }
   ],
   "source": [
    "print (fullname.upper()) # Uppercase"
   ]
  },
  {
   "cell_type": "code",
   "execution_count": 15,
   "id": "440baf22-be47-430e-ab0a-1cef911f2fbb",
   "metadata": {},
   "outputs": [
    {
     "name": "stdout",
     "output_type": "stream",
     "text": [
      "asher ansari\n"
     ]
    }
   ],
   "source": [
    "print (fullname.lower()) # lowercase"
   ]
  },
  {
   "cell_type": "code",
   "execution_count": null,
   "id": "b99ffcf8-dc3d-4cef-8e01-89a6ca0f7784",
   "metadata": {},
   "outputs": [],
   "source": []
  }
 ],
 "metadata": {
  "kernelspec": {
   "display_name": "Python [conda env:base] *",
   "language": "python",
   "name": "conda-base-py"
  },
  "language_info": {
   "codemirror_mode": {
    "name": "ipython",
    "version": 3
   },
   "file_extension": ".py",
   "mimetype": "text/x-python",
   "name": "python",
   "nbconvert_exporter": "python",
   "pygments_lexer": "ipython3",
   "version": "3.13.5"
  }
 },
 "nbformat": 4,
 "nbformat_minor": 5
}

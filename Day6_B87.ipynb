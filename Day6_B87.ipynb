{
 "cells": [
  {
   "cell_type": "code",
   "execution_count": 2,
   "id": "c914acd1-94f3-4ac6-89d5-af639c180dfc",
   "metadata": {},
   "outputs": [
    {
     "name": "stdout",
     "output_type": "stream",
     "text": [
      "{'color': 'green', 'points': 5}\n"
     ]
    }
   ],
   "source": [
    "alien ={'color': 'green','points':5}\n",
    "print(alien)"
   ]
  },
  {
   "cell_type": "code",
   "execution_count": 3,
   "id": "a8d4ee41-a532-4eaf-8ef6-23752e34e6e6",
   "metadata": {},
   "outputs": [
    {
     "data": {
      "text/plain": [
       "dict"
      ]
     },
     "execution_count": 3,
     "metadata": {},
     "output_type": "execute_result"
    }
   ],
   "source": [
    "type(alien)"
   ]
  },
  {
   "cell_type": "code",
   "execution_count": 4,
   "id": "71d000da-f98c-43e0-98cc-b0ddfa2d6d24",
   "metadata": {},
   "outputs": [
    {
     "name": "stdout",
     "output_type": "stream",
     "text": [
      "{'color': 'green', 'points': 5, 'start position': 'level'}\n"
     ]
    }
   ],
   "source": [
    "alien[\"start position\"] = 'level'\n",
    "print(alien)"
   ]
  },
  {
   "cell_type": "code",
   "execution_count": 8,
   "id": "c955a81b-8bba-426e-9b84-8bd842b9640d",
   "metadata": {},
   "outputs": [
    {
     "name": "stdout",
     "output_type": "stream",
     "text": [
      "green\n"
     ]
    }
   ],
   "source": [
    "print(alien['color'])  # Get the value corresponding to the key"
   ]
  },
  {
   "cell_type": "code",
   "execution_count": 9,
   "id": "426eaf09-61bc-4a77-af9b-4b5a4a9f8731",
   "metadata": {},
   "outputs": [
    {
     "name": "stdout",
     "output_type": "stream",
     "text": [
      "{'color': 'red', 'points': 5, 'start position': 'level'}\n"
     ]
    }
   ],
   "source": [
    "alien['color'] = 'red'\n",
    "print(alien)"
   ]
  },
  {
   "cell_type": "code",
   "execution_count": 10,
   "id": "0c08f88d-67ff-469c-b3d2-493ab1699ce7",
   "metadata": {},
   "outputs": [
    {
     "name": "stdout",
     "output_type": "stream",
     "text": [
      "{'fname': 'code', 'lname': 'training', 'username': 'codetraining', 'dob': '01-01-2020', 'pwd': 'test'}\n"
     ]
    }
   ],
   "source": [
    "user_account = {'fname':'code','lname':'training','username':'codetraining','dob':'01-01-2020','pwd':'test'}\n",
    "print(user_account)"
   ]
  },
  {
   "cell_type": "code",
   "execution_count": 11,
   "id": "083a2477-ea6a-42f6-bc43-ea3d0ea87c20",
   "metadata": {},
   "outputs": [
    {
     "name": "stdout",
     "output_type": "stream",
     "text": [
      "{'fname': 'code', 'username': 'codetraining', 'dob': '01-01-2020', 'pwd': 'test'}\n"
     ]
    }
   ],
   "source": [
    "del user_account['lname']\n",
    "print(user_account)"
   ]
  },
  {
   "cell_type": "code",
   "execution_count": 12,
   "id": "a1c8d7e3-01f4-45b2-9ad6-afadb66e937b",
   "metadata": {},
   "outputs": [],
   "source": [
    "#Looping statments"
   ]
  },
  {
   "cell_type": "code",
   "execution_count": 13,
   "id": "63e36849-7b59-41d8-9078-aff3cb058df9",
   "metadata": {},
   "outputs": [],
   "source": [
    "students= ['durga','dinesh','kavya','noor','raza','abid','joseph']"
   ]
  },
  {
   "cell_type": "code",
   "execution_count": 14,
   "id": "73d58fc7-66a5-431f-b160-03ba882e62dd",
   "metadata": {},
   "outputs": [
    {
     "name": "stdout",
     "output_type": "stream",
     "text": [
      "Keep up the good work,Durga\n"
     ]
    }
   ],
   "source": [
    "print(f\"Keep up the good work,{students[0].title()}\")"
   ]
  },
  {
   "cell_type": "code",
   "execution_count": 15,
   "id": "528a0ba3-05d0-43f8-bd2b-158dee10dc59",
   "metadata": {},
   "outputs": [
    {
     "name": "stdout",
     "output_type": "stream",
     "text": [
      "Keep up the good work,Durga\n",
      "Keep up the good work,Dinesh\n",
      "Keep up the good work,Kavya\n",
      "Keep up the good work,Noor\n",
      "Keep up the good work,Raza\n",
      "Keep up the good work,Abid\n",
      "Keep up the good work,Joseph\n"
     ]
    }
   ],
   "source": [
    "#FOR loop\n",
    "for x in students:\n",
    "    print(f\"Keep up the good work,{x.title()}\")"
   ]
  },
  {
   "cell_type": "code",
   "execution_count": null,
   "id": "9f2462c0-0db9-40cf-bac4-f53b755c0229",
   "metadata": {},
   "outputs": [],
   "source": []
  }
 ],
 "metadata": {
  "kernelspec": {
   "display_name": "Python [conda env:base] *",
   "language": "python",
   "name": "conda-base-py"
  },
  "language_info": {
   "codemirror_mode": {
    "name": "ipython",
    "version": 3
   },
   "file_extension": ".py",
   "mimetype": "text/x-python",
   "name": "python",
   "nbconvert_exporter": "python",
   "pygments_lexer": "ipython3",
   "version": "3.13.5"
  }
 },
 "nbformat": 4,
 "nbformat_minor": 5
}

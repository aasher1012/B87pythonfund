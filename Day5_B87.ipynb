{
 "cells": [
  {
   "cell_type": "code",
   "execution_count": 3,
   "id": "2eff6b36-3d0f-4248-9cd4-422c8a3344ad",
   "metadata": {},
   "outputs": [],
   "source": [
    "cars = ['audi','bmw','tata','maruti','suzuki','toyota','mercedes']"
   ]
  },
  {
   "cell_type": "code",
   "execution_count": 4,
   "id": "959bbf1f-4267-4e99-a75c-64c0bceef9a8",
   "metadata": {},
   "outputs": [
    {
     "name": "stdout",
     "output_type": "stream",
     "text": [
      "['audi', 'bmw', 'maruti', 'mercedes', 'suzuki', 'tata', 'toyota']\n"
     ]
    }
   ],
   "source": [
    "# Temporary approach\n",
    "print(sorted(cars))"
   ]
  },
  {
   "cell_type": "code",
   "execution_count": 5,
   "id": "26db4d4d-5a03-4a6f-af61-7700dfd814c3",
   "metadata": {},
   "outputs": [
    {
     "name": "stdout",
     "output_type": "stream",
     "text": [
      "['audi', 'bmw', 'maruti', 'mercedes', 'suzuki', 'tata', 'toyota']\n"
     ]
    }
   ],
   "source": [
    "# Permanent approach\n",
    "cars.sort()\n",
    "print(cars)"
   ]
  },
  {
   "cell_type": "code",
   "execution_count": 6,
   "id": "a3056f00-45ce-4982-80e1-4003467b2dd0",
   "metadata": {},
   "outputs": [
    {
     "data": {
      "text/plain": [
       "7"
      ]
     },
     "execution_count": 6,
     "metadata": {},
     "output_type": "execute_result"
    }
   ],
   "source": [
    "# Total count of elements in a list\n",
    "len(cars)"
   ]
  },
  {
   "cell_type": "code",
   "execution_count": 10,
   "id": "e3ed9037-810d-4827-9681-77d5b6722004",
   "metadata": {},
   "outputs": [],
   "source": [
    "# Reverse order\n",
    "cars.reverse()"
   ]
  },
  {
   "cell_type": "code",
   "execution_count": 11,
   "id": "703ca1e3-5ac2-41d3-b40b-09d47a49bc52",
   "metadata": {},
   "outputs": [
    {
     "name": "stdout",
     "output_type": "stream",
     "text": [
      "['audi', 'bmw', 'maruti', 'mercedes', 'suzuki', 'tata', 'toyota']\n"
     ]
    }
   ],
   "source": [
    "print(cars)"
   ]
  },
  {
   "cell_type": "code",
   "execution_count": null,
   "id": "21b968ab-1cfc-4344-af93-737f268dd7d6",
   "metadata": {},
   "outputs": [],
   "source": [
    "#slicing\n"
   ]
  }
 ],
 "metadata": {
  "kernelspec": {
   "display_name": "Python [conda env:base] *",
   "language": "python",
   "name": "conda-base-py"
  },
  "language_info": {
   "codemirror_mode": {
    "name": "ipython",
    "version": 3
   },
   "file_extension": ".py",
   "mimetype": "text/x-python",
   "name": "python",
   "nbconvert_exporter": "python",
   "pygments_lexer": "ipython3",
   "version": "3.13.5"
  }
 },
 "nbformat": 4,
 "nbformat_minor": 5
}
